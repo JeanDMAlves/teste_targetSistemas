{
 "cells": [
  {
   "cell_type": "code",
   "execution_count": 2,
   "metadata": {},
   "outputs": [
    {
     "name": "stdout",
     "output_type": "stream",
     "text": [
      "Soma é igual a: 91\n"
     ]
    }
   ],
   "source": [
    "def exercicio1():\n",
    "    indice = 13\n",
    "    soma = 0\n",
    "    k = 0\n",
    "    while (k < indice):\n",
    "        k += 1\n",
    "        soma += k\n",
    "    print(f'Soma é igual a: {soma}')\n",
    "exercicio1()"
   ]
  },
  {
   "cell_type": "code",
   "execution_count": 6,
   "metadata": {},
   "outputs": [
    {
     "name": "stdout",
     "output_type": "stream",
     "text": [
      "O número 21 pertence à sequência de Fibonacci.\n",
      "O número 22 não pertence à sequência de Fibonacci.\n"
     ]
    }
   ],
   "source": [
    "def exercicio2(entrada):\n",
    "    sequencia_fibonacci = [0, 1]\n",
    "    while sequencia_fibonacci[-1] < entrada:\n",
    "        proximo_valor = sequencia_fibonacci[-1] + sequencia_fibonacci[-2]\n",
    "        sequencia_fibonacci.append(proximo_valor)\n",
    "\n",
    "    if entrada in sequencia_fibonacci:\n",
    "        return f\"O número {entrada} pertence à sequência de Fibonacci.\"\n",
    "    return f\"O número {entrada} não pertence à sequência de Fibonacci.\"\n",
    "    \n",
    "print(exercicio2(21))\n",
    "print(exercicio2(22))"
   ]
  },
  {
   "cell_type": "code",
   "execution_count": 21,
   "metadata": {},
   "outputs": [
    {
     "name": "stdout",
     "output_type": "stream",
     "text": [
      "O dia com o menor faturamento, excluindo os zeros: {'dia': 14, 'valor': 373.7838}\n",
      "O dia com o maior faturamento: {'dia': 16, 'valor': 48924.2448}\n",
      "Média: 20865.370166666668\n",
      "O número de dias em que o valor de faturamento diário foi superior à média mensal foi: 10\n"
     ]
    }
   ],
   "source": [
    "import json\n",
    "def exercicio3():\n",
    "    dados = []\n",
    "    with open('dados.json', 'r') as arquivo:\n",
    "        dados = json.load(arquivo)\n",
    "    dados_sem_faturamento_zero = [i for i in dados if i['valor'] !=0 ]\n",
    "    dados_sem_faturamento_zero_ordenados = sorted(\n",
    "        dados_sem_faturamento_zero,\n",
    "        key=lambda x: x['valor']\n",
    "    )\n",
    "    \n",
    "    dia_menor_faturamento = dados_sem_faturamento_zero_ordenados[0]\n",
    "    dia_maior_faturamento = dados_sem_faturamento_zero_ordenados[-1]\n",
    "    \n",
    "    soma = sum(item['valor'] for item in dados_sem_faturamento_zero_ordenados)\n",
    "    quantidade = len(dados_sem_faturamento_zero_ordenados)\n",
    "    media = soma/quantidade\n",
    "    \n",
    "    dias_acima_da_media = [i for i in dados_sem_faturamento_zero_ordenados if i['valor'] > media]\n",
    "    \n",
    "    print(f'O dia com o menor faturamento, excluindo os zeros: {dia_menor_faturamento}')\n",
    "    print(f'O dia com o maior faturamento: {dia_maior_faturamento}')\n",
    "    print(f'Média: {media}')\n",
    "    print(f'O número de dias em que o valor de faturamento diário foi superior à média mensal foi: {len(dias_acima_da_media)}')\n",
    "    \n",
    "exercicio3()"
   ]
  },
  {
   "cell_type": "code",
   "execution_count": 9,
   "metadata": {},
   "outputs": [
    {
     "name": "stdout",
     "output_type": "stream",
     "text": [
      "180759.98\n",
      "{'SP': 37.52845624346716, 'RJ': 20.291360952794975, 'MG': 16.170548370275323, 'ES': 15.028481414968068, 'Outros': 10.981153018494469}\n"
     ]
    }
   ],
   "source": [
    "def exercicio4():\n",
    "    valores = {\n",
    "        \"SP\": 67836.43,\n",
    "        \"RJ\": 36678.66,\n",
    "        \"MG\": 29229.88,\n",
    "        \"ES\": 27165.48,\n",
    "        \"Outros\": 19849.53\n",
    "    }\n",
    "    soma = 0\n",
    "    for i in valores.keys():\n",
    "        soma += valores[i]\n",
    "    \n",
    "    percentual_dict = dict()\n",
    "    for i in valores.keys():\n",
    "        percentual_dict[i] = (100 * valores[i]) / soma\n",
    "        \n",
    "    print(soma)\n",
    "    print(percentual_dict)\n",
    "exercicio4()"
   ]
  },
  {
   "cell_type": "code",
   "execution_count": 11,
   "metadata": {},
   "outputs": [
    {
     "data": {
      "text/plain": [
       "'ananab'"
      ]
     },
     "execution_count": 11,
     "metadata": {},
     "output_type": "execute_result"
    }
   ],
   "source": [
    "def exercicio5(entrada):\n",
    "    return entrada[::-1] \n",
    "\n",
    "print(exercicio5('banana'))"
   ]
  }
 ],
 "metadata": {
  "kernelspec": {
   "display_name": "3.10.13",
   "language": "python",
   "name": "python3"
  },
  "language_info": {
   "codemirror_mode": {
    "name": "ipython",
    "version": 3
   },
   "file_extension": ".py",
   "mimetype": "text/x-python",
   "name": "python",
   "nbconvert_exporter": "python",
   "pygments_lexer": "ipython3",
   "version": "3.10.13"
  }
 },
 "nbformat": 4,
 "nbformat_minor": 2
}
